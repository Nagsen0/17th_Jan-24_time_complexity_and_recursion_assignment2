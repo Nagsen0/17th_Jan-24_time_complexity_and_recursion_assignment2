{
  "nbformat": 4,
  "nbformat_minor": 0,
  "metadata": {
    "colab": {
      "provenance": []
    },
    "kernelspec": {
      "name": "python3",
      "display_name": "Python 3"
    },
    "language_info": {
      "name": "python"
    }
  },
  "cells": [
    {
      "cell_type": "markdown",
      "source": [
        "# Find time complexity of below code blocks:"
      ],
      "metadata": {
        "id": "eNi4Aq938Akr"
      }
    },
    {
      "cell_type": "markdown",
      "source": [
        "Problem 1:"
      ],
      "metadata": {
        "id": "zFvl3ZyzDKGo"
      }
    },
    {
      "cell_type": "code",
      "execution_count": 25,
      "metadata": {
        "id": "v9WOx2i67oPB"
      },
      "outputs": [],
      "source": [
        "def quicksort(arr):\n",
        "  if len(arr)<=1:\n",
        "    return arr\n",
        "\n",
        "  pivot = arr[len(arr)//2]\n",
        "  left = [x for x in arr if x<pivot]\n",
        "  middle=[x for x in arr if x==pivot]\n",
        "  right = [x for x in arr if x> pivot]\n",
        "\n",
        "  return quicksort(left) + middle + quicksort(right)"
      ]
    },
    {
      "cell_type": "markdown",
      "source": [
        "The time complexity of the quicksort code is o(nlogn) on average case, but it can be o(n^2) in the worst case.\n",
        "\n",
        "\n",
        "This is because the time complexity of quicksort depends on the choice of the pivot element.\n",
        "\n",
        "\n",
        "  * In the best case, the pivot element always divides the array into two subarrays of roughly equal size. In this case, each recursive call reduces the size of the problem by half, and the total number of recursive calls is logarithmic in the size of the input array. This leads to a time complexity of o(nlogn).\n",
        "\n",
        "  * In the average case, the pivot element also divides the array into two subarrays of roughly equal size, and the time complexity is also o(nlogn). This is because the average behavior of the algorithm is dominated by the best-case behavior.\n",
        "\n",
        "  * In the worst case, the pivot element always divides the array into one subarray of size n-1 and another subarray of size 1. This can happen if the pivot element is always the largest or smallest element in the array. In this case, the recursion tree becomes unbalanced, and the number of recursive calls is linear in the size of the input array. This leads to a time complexity of o(n^2)."
      ],
      "metadata": {
        "id": "WRaxJLjODF_W"
      }
    },
    {
      "cell_type": "markdown",
      "source": [
        "Problem 2:"
      ],
      "metadata": {
        "id": "j8RBmYi3KI-a"
      }
    },
    {
      "cell_type": "code",
      "source": [
        "def nested_loop_example(matrix):\n",
        "  rows, cols = len(matrix), len(matrix[0])\n",
        "  total = 0\n",
        "  for i in range(rows):\n",
        "    for j in range(cols):\n",
        "      total += matrix[i][j]\n",
        "\n",
        "  return total"
      ],
      "metadata": {
        "id": "GuELM0YT9PR8"
      },
      "execution_count": 26,
      "outputs": []
    },
    {
      "cell_type": "markdown",
      "source": [
        "Time complexity:\n",
        "\n",
        "     --> O(m*n)\n",
        "\n",
        "    here\n",
        "\n",
        "    m--> number of rows\n",
        "\n",
        "    n--> number of columns"
      ],
      "metadata": {
        "id": "WkAezYw4LO9P"
      }
    },
    {
      "cell_type": "markdown",
      "source": [
        "Problem 3:"
      ],
      "metadata": {
        "id": "ETyyuva9M_7V"
      }
    },
    {
      "cell_type": "code",
      "source": [
        "def example_function(arr):\n",
        "  result = 0\n",
        "  for element in arr:\n",
        "    result += element\n",
        "  return result"
      ],
      "metadata": {
        "id": "qp373IhPKiWA"
      },
      "execution_count": 28,
      "outputs": []
    },
    {
      "cell_type": "markdown",
      "source": [
        "Time complexity:\n",
        "\n",
        "\n",
        "    linear time complexity:\n",
        "                             O(n)"
      ],
      "metadata": {
        "id": "lO_qy_eDP9P9"
      }
    },
    {
      "cell_type": "markdown",
      "source": [
        "Problem 4:"
      ],
      "metadata": {
        "id": "nZdJCmdiQPhG"
      }
    },
    {
      "cell_type": "code",
      "source": [
        "def longest_increasing_subsequence(nums):\n",
        "  n=len(nums)\n",
        "  lis = [1] * n\n",
        "  for i in range(1,n):\n",
        "    for j in range(0,i):\n",
        "      if nums[i] >nums[j] and lis[i] < lis[j] + 1:\n",
        "        lis[i] = lis[j] + 1\n",
        "\n",
        "  return max(lis)"
      ],
      "metadata": {
        "id": "QrfsRXuGNWPg"
      },
      "execution_count": 29,
      "outputs": []
    },
    {
      "cell_type": "markdown",
      "source": [
        "Time complexity:\n",
        "\n",
        "    Quadratic time complexity: O(n^2)"
      ],
      "metadata": {
        "id": "Slg0NwxnYR-t"
      }
    },
    {
      "cell_type": "markdown",
      "source": [
        "Problem 5:"
      ],
      "metadata": {
        "id": "yFN0PNquZReA"
      }
    },
    {
      "cell_type": "code",
      "source": [
        "def mysterious_function(arr):\n",
        "  n = len(arr)\n",
        "  result = 0\n",
        "  for i in range(n):\n",
        "    for j in range(i,n):\n",
        "      result += arr[i] * arr[j]\n",
        "  return result"
      ],
      "metadata": {
        "id": "ZwEF0-otREa6"
      },
      "execution_count": 30,
      "outputs": []
    },
    {
      "cell_type": "markdown",
      "source": [
        "Time complexity:\n",
        "\n",
        "\n",
        "    Quadratic time complexity: O(n^2)"
      ],
      "metadata": {
        "id": "uHXwfc89apP1"
      }
    },
    {
      "cell_type": "markdown",
      "source": [
        "# Solve the following problems on recursion"
      ],
      "metadata": {
        "id": "KFR_67W8b-WG"
      }
    },
    {
      "cell_type": "markdown",
      "source": [
        "Problem 6: Sum of Digits\n",
        "\n",
        "Write a recursive function to calculate the sum of digits of a given positive integer.\n",
        "sum_of_digits(123)-->6"
      ],
      "metadata": {
        "id": "Kq1iGjh8cLYv"
      }
    },
    {
      "cell_type": "code",
      "source": [
        "def sum_of_digits(num):\n",
        "  # base case condition\n",
        "  if num <= 1:\n",
        "    return num\n",
        "\n",
        "  # recursive function call\n",
        "  return sum_of_digits(num//10) + num % 10\n",
        "\n",
        "\n",
        "sum_of_digits(123456789)"
      ],
      "metadata": {
        "colab": {
          "base_uri": "https://localhost:8080/"
        },
        "id": "_Si7uYl-aKrU",
        "outputId": "89bb3857-e1f4-415d-b47d-4ed44b72a227"
      },
      "execution_count": 31,
      "outputs": [
        {
          "output_type": "execute_result",
          "data": {
            "text/plain": [
              "45"
            ]
          },
          "metadata": {},
          "execution_count": 31
        }
      ]
    },
    {
      "cell_type": "markdown",
      "source": [
        "Problem 7: Fibonacci Series\n",
        "\n",
        "WRite a recursive function to generate the first n numbers of the Fibonacci series.\n",
        "\n",
        "fibonacci_series(6) -> [0,1,1,2,3,5]"
      ],
      "metadata": {
        "id": "L6NbfSTOlcos"
      }
    },
    {
      "cell_type": "code",
      "source": [
        "def fibonacci_series(n):\n",
        "  # base case condition\n",
        "  if n<=0:\n",
        "    return []\n",
        "\n",
        "  elif n==1: # base case : 0 for n=1\n",
        "    return [0]\n",
        "\n",
        "  elif n==2: # base case: 0 and 1 for n =2\n",
        "    return [0,1]\n",
        "\n",
        "  else:\n",
        "    # recursive call: get previous two terms and append their sum\n",
        "    prev_two = fibonacci_series(n-1)\n",
        "    return prev_two + [prev_two[-2] + prev_two[-1]]\n",
        "\n",
        "# example usage\n",
        "\n",
        "fibonacci_series(6)\n"
      ],
      "metadata": {
        "id": "URz6mrRmgtPB",
        "colab": {
          "base_uri": "https://localhost:8080/"
        },
        "outputId": "0760417c-9d08-4812-f9df-20d88fc275ca"
      },
      "execution_count": 32,
      "outputs": [
        {
          "output_type": "execute_result",
          "data": {
            "text/plain": [
              "[0, 1, 1, 2, 3, 5]"
            ]
          },
          "metadata": {},
          "execution_count": 32
        }
      ]
    },
    {
      "cell_type": "markdown",
      "source": [
        "problem 8: Subset Sum\n",
        "\n",
        "Given a set of positive integers and a target sum, write a recursive function to determine if there exists a subset of the integers that adds up to the target sum.\n",
        "\n",
        "subset_sum([3,34,4,12,5,2],9) --> True"
      ],
      "metadata": {
        "id": "5ANcwP0vZ-p8"
      }
    },
    {
      "cell_type": "code",
      "source": [
        "def subset_sum(nums, target):\n",
        "\n",
        "  # base case: if the target sum is 0, then the empty subset sums to the target sum\n",
        "  if target == 0:\n",
        "    return True\n",
        "\n",
        "  # base case: if the list of numbers is empty, then there is no subset that can sum to the target sum.\n",
        "  if not nums:\n",
        "    return False\n",
        "\n",
        "  # try including the first number in the subset.\n",
        "  if subset_sum(nums[1:], target-nums[0]):\n",
        "    return True\n",
        "\n",
        "  # try excluding the first number from the subset.\n",
        "  return subset_sum(nums[1:], target)\n",
        "\n",
        "\n",
        "# example usage:\n",
        "nums = [3,34, 4,12,5,2]\n",
        "target=9\n",
        "subset_sum(nums,target)\n"
      ],
      "metadata": {
        "id": "OqYV8pbFRc8r",
        "colab": {
          "base_uri": "https://localhost:8080/"
        },
        "outputId": "6188924d-8e36-416e-dcb5-2dfb235f048a"
      },
      "execution_count": 33,
      "outputs": [
        {
          "output_type": "execute_result",
          "data": {
            "text/plain": [
              "True"
            ]
          },
          "metadata": {},
          "execution_count": 33
        }
      ]
    },
    {
      "cell_type": "markdown",
      "source": [
        "problems 9: Word Break\n",
        "\n",
        "Given a non-empty string and a list of words, write a recursive function to determine if the string can be segmented into a space-separated sequence of dictionary words.\n",
        "\n",
        "word_break(\"leetcode\",['leet','code'])---> True"
      ],
      "metadata": {
        "id": "LBRasgoAJ8-p"
      }
    },
    {
      "cell_type": "code",
      "source": [
        "def word_break(wordList, word):\n",
        "  if word==\"\":\n",
        "    return True\n",
        "\n",
        "  else:\n",
        "    wordLen = len(word)\n",
        "    for i in range(1, wordLen+1):\n",
        "      if word[:i] in wordList and word_break(wordList, word[i:]):\n",
        "        return True\n",
        "\n",
        "    return False\n",
        "\n",
        "print(word_break([\"leet\", \"code\"], \"leetcode\"))"
      ],
      "metadata": {
        "colab": {
          "base_uri": "https://localhost:8080/"
        },
        "id": "vpfzXzaYxw47",
        "outputId": "1843b72c-ee72-46c7-acb8-3fe3d6617b50"
      },
      "execution_count": 34,
      "outputs": [
        {
          "output_type": "stream",
          "name": "stdout",
          "text": [
            "True\n"
          ]
        }
      ]
    },
    {
      "cell_type": "markdown",
      "source": [
        "problem 10: N-Queens\n",
        "\n",
        "Implement a recursive function to solve the N-Queens problem, where you have to place N queens on an N x N chessboard in such a way that no two queens threaten each other.\n",
        "\n",
        "n_queens(4)\n"
      ],
      "metadata": {
        "id": "9t3Txe1NQpWA"
      }
    },
    {
      "cell_type": "code",
      "source": [
        "# return true if it's safe to place queen on the board\n",
        "def isSafeToPlaceQueen(board, row, col,n):\n",
        "\n",
        "  # check in the left side\n",
        "  for i in range(col):\n",
        "    if board[row][i]==1:\n",
        "      return False\n",
        "\n",
        "\n",
        "  # check in the upper left diagonal\n",
        "  for i, j in zip(range(row,-1,-1), range(col, -1, -1)):\n",
        "    if board[i][j]==1:\n",
        "      return False\n",
        "\n",
        "  # chck in the lower left diagonal\n",
        "\n",
        "  for i, j in zip(range(row,n,1 ), range(col, -1, -1)):\n",
        "    if board[i][j]==1:\n",
        "      return False\n",
        "\n",
        "  return True\n",
        "\n",
        "\n",
        "\n",
        "def solveNQ(board,n):\n",
        "\n",
        "  if not solveNQUtil(board, 0, n):\n",
        "    print(\"Solution doesn't exist\")\n",
        "    return\n",
        "\n",
        "  printBoard(board,n)\n",
        "\n",
        "# should return True if we are able to place all the queens\n",
        "def solveNQUtil(board, col, n):\n",
        "  if (col>=n):  # base condition\n",
        "    return True   # means we have be able to  put queens in all the columns\n",
        "\n",
        "\n",
        "  # check for all the rows\n",
        "  for row in range(n):\n",
        "    if isSafeToPlaceQueen(board, row, col, n):\n",
        "      board[row][col]=1  # set the queen\n",
        "\n",
        "      # recursively try for the next columns\n",
        "      if solveNQUtil(board, col+1,n):\n",
        "        return True\n",
        "\n",
        "      # back tracking\n",
        "      board[row][col]=0  # Queen can't be set here\n",
        "\n",
        "  return False  # won't be able to place the queen\n",
        "\n",
        "\n",
        "def printBoard(board, n):\n",
        "  for i in range(n):\n",
        "    for j in range(n):\n",
        "      if board[i][j]==1:\n",
        "        print(\"Q\", end=\" \")\n",
        "\n",
        "      else:\n",
        "        print(\".\", end=\" \")\n",
        "\n",
        "    print()"
      ],
      "metadata": {
        "id": "m-FFZPIwQUCj"
      },
      "execution_count": 35,
      "outputs": []
    },
    {
      "cell_type": "code",
      "source": [
        "board=[[0,0,0,0],\n",
        "       [0,0,0,0],\n",
        "       [0,0,0,0],\n",
        "       [0,0,0,0]]\n",
        "\n",
        "\n",
        "board8=[[0,0,0,0,0,0,0,0],\n",
        "        [0,0,0,0,0,0,0,0],\n",
        "        [0,0,0,0,0,0,0,0],\n",
        "        [0,0,0,0,0,0,0,0],\n",
        "        [0,0,0,0,0,0,0,0],\n",
        "        [0,0,0,0,0,0,0,0],\n",
        "        [0,0,0,0,0,0,0,0],\n",
        "        [0,0,0,0,0,0,0,0],]\n",
        "solveNQ(board, 4)\n",
        "print()\n",
        "print()\n",
        "solveNQ(board8,8)"
      ],
      "metadata": {
        "colab": {
          "base_uri": "https://localhost:8080/"
        },
        "id": "zysjYL_UtlPs",
        "outputId": "dc9ca9a1-b1c2-43e2-c03b-a76c1e9f2cdf"
      },
      "execution_count": null,
      "outputs": [
        {
          "output_type": "stream",
          "name": "stdout",
          "text": [
            ". . Q . \n",
            "Q . . . \n",
            ". . . Q \n",
            ". Q . . \n",
            "\n",
            "\n",
            "Q . . . . . . . \n",
            ". . . . . . Q . \n",
            ". . . . Q . . . \n",
            ". . . . . . . Q \n",
            ". Q . . . . . . \n",
            ". . . Q . . . . \n",
            ". . . . . Q . . \n",
            ". . Q . . . . . \n"
          ]
        }
      ]
    },
    {
      "cell_type": "code",
      "source": [],
      "metadata": {
        "id": "yJQBk401Fyeo"
      },
      "execution_count": null,
      "outputs": []
    }
  ]
}